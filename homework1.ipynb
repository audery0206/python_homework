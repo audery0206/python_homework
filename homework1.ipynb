{
 "cells": [
  {
   "cell_type": "code",
   "execution_count": 2,
   "id": "ea9d02c4-49d9-42f3-83da-8d74edbfe45a",
   "metadata": {
    "tags": []
   },
   "outputs": [
    {
     "name": "stdin",
     "output_type": "stream",
     "text": [
      "please input how many number do you need : 6\n",
      "please input all the numbers : 11 12\n"
     ]
    },
    {
     "name": "stdout",
     "output_type": "stream",
     "text": [
      "12 11\n"
     ]
    }
   ],
   "source": [
    "N = int(input('please input how many number do you need :'))\n",
    "\n",
    "P = input('please input all the numbers :')\n",
    "numbers = list(map(int, P.split()))\n",
    "\n",
    "numbers.sort()\n",
    "\n",
    "numbers.reverse()\n",
    "\n",
    "print(' '.join(map(str, numbers)))"
   ]
  },
  {
   "cell_type": "code",
   "execution_count": null,
   "id": "6b7702d7-c53b-46c4-a24b-2a15c0b59095",
   "metadata": {},
   "outputs": [],
   "source": []
  }
 ],
 "metadata": {
  "kernelspec": {
   "display_name": "Python 3 (ipykernel)",
   "language": "python",
   "name": "python3"
  },
  "language_info": {
   "codemirror_mode": {
    "name": "ipython",
    "version": 3
   },
   "file_extension": ".py",
   "mimetype": "text/x-python",
   "name": "python",
   "nbconvert_exporter": "python",
   "pygments_lexer": "ipython3",
   "version": "3.11.5"
  }
 },
 "nbformat": 4,
 "nbformat_minor": 5
}
